{
 "cells": [
  {
   "cell_type": "markdown",
   "id": "fb0ebaf1",
   "metadata": {},
   "source": [
    "[![Open in Colab](https://colab.research.google.com/assets/colab-badge.svg)](https://colab.research.google.com/github/langchain-ai/langchain-academy/blob/main/module-2/trim-filter-messages.ipynb) [![Open in LangChain Academy](https://cdn.prod.website-files.com/65b8cd72835ceeacd4449a53/66e9eba12c7b7688aa3dbb5e_LCA-badge-green.svg)](https://academy.langchain.com/courses/take/intro-to-langgraph/lessons/58239435-lesson-4-trim-and-filter-messages)"
   ]
  },
  {
   "cell_type": "markdown",
   "id": "c52ea2f9-03ff-4647-b782-46867ebed04e",
   "metadata": {},
   "source": [
    "# Filtering and trimming messages\n",
    "\n",
    "## Review\n",
    "\n",
    "Now, we have a deeper understanding of a few things: \n",
    "\n",
    "* How to customize the graph state schema\n",
    "* How to define custom state reducers\n",
    "* How to use multiple graph state schemas\n",
    "\n",
    "## Goals\n",
    "\n",
    "Now, we can start using these concepts with models in LangGraph!\n",
    " \n",
    "In the next few sessions, we'll build towards a chatbot that has long-term memory.\n",
    "\n",
    "Because our chatbot will use messages, let's first talk a bit more about advanced ways to work with messages in graph state."
   ]
  },
  {
   "cell_type": "code",
   "execution_count": null,
   "id": "d5197aba-5d46-421b-ae3b-4e3034edcfda",
   "metadata": {},
   "outputs": [],
   "source": [
    "%%capture --no-stderr\n",
    "%pip install --quiet -U langchain_core langgraph langchain_openai"
   ]
  },
  {
   "cell_type": "code",
   "execution_count": 1,
   "id": "768dc606-d5f2-468d-96ea-910b264e0f8a",
   "metadata": {},
   "outputs": [],
   "source": [
    "# import os, getpass\n",
    "\n",
    "# def _set_env(var: str):\n",
    "#     if not os.environ.get(var):\n",
    "#         os.environ[var] = getpass.getpass(f\"{var}: \")\n",
    "\n",
    "# _set_env(\"OPENAI_API_KEY\")"
   ]
  },
  {
   "cell_type": "markdown",
   "id": "8b64d8d3-e4ac-4961-bdc0-688825eb5864",
   "metadata": {},
   "source": [
    "We'll use [LangSmith](https://docs.smith.langchain.com/) for [tracing](https://docs.smith.langchain.com/concepts/tracing).\n",
    "\n",
    "We'll log to a project, `langchain-academy`. "
   ]
  },
  {
   "cell_type": "code",
   "execution_count": 2,
   "id": "dd020c79",
   "metadata": {},
   "outputs": [],
   "source": [
    "# _set_env(\"LANGCHAIN_API_KEY\")\n",
    "# os.environ[\"LANGCHAIN_TRACING_V2\"] = \"true\"\n",
    "# os.environ[\"LANGCHAIN_PROJECT\"] = \"langchain-academy\""
   ]
  },
  {
   "cell_type": "code",
   "execution_count": 1,
   "id": "1205be63",
   "metadata": {},
   "outputs": [],
   "source": [
    "# load environment variables\n",
    "from dotenv import load_dotenv\n",
    "import os\n",
    "\n",
    "load_dotenv(dotenv_path='C:\\MIConsulting\\LangChain\\langchain-academy\\.env')\n",
    "\n",
    "# OPENAI_API_KEY = os.getenv(\"OPENAI_API_KEY\")\n",
    "GOOGLEAI_API_KEY = os.getenv(\"GOOGLEAI_API_KEY\")\n",
    "LANGCHAIN_API_KEY = os.getenv('LANGCHAIN_API_KEY')\n",
    "LANGCHAIN_ENDPOINT = os.getenv('LANGCHAIN_ENDPOINT')\n",
    "LANGCHAIN_TRACING_V2 = os.getenv('LANGCHAIN_TRACING_V2')\n",
    "LANGCHAIN_PROJECT = os.getenv('LANGCHAIN_PROJECT')"
   ]
  },
  {
   "cell_type": "markdown",
   "id": "72f3fc90-58b6-4f7f-897e-dddf6ae532c7",
   "metadata": {},
   "source": [
    "## Messages as state\n",
    "\n",
    "First, let's define some messages."
   ]
  },
  {
   "cell_type": "code",
   "execution_count": 2,
   "id": "cf11a463-e27a-4a05-b41d-64882e38edca",
   "metadata": {},
   "outputs": [
    {
     "name": "stdout",
     "output_type": "stream",
     "text": [
      "==================================\u001b[1m Ai Message \u001b[0m==================================\n",
      "Name: Bot\n",
      "\n",
      "So you said you were researching ocean mammals?\n",
      "================================\u001b[1m Human Message \u001b[0m=================================\n",
      "Name: Lance\n",
      "\n",
      "Yes, I know about whales. But what others should I learn about?\n"
     ]
    }
   ],
   "source": [
    "from pprint import pprint\n",
    "from langchain_core.messages import AIMessage, HumanMessage\n",
    "messages = [AIMessage(f\"So you said you were researching ocean mammals?\", name=\"Bot\")]\n",
    "messages.append(HumanMessage(f\"Yes, I know about whales. But what others should I learn about?\", name=\"Lance\"))\n",
    "\n",
    "for m in messages:\n",
    "    m.pretty_print()"
   ]
  },
  {
   "cell_type": "markdown",
   "id": "b814adcb-6bf9-4b75-be11-e59f933fbd0c",
   "metadata": {},
   "source": [
    "Recall we can pass them to a chat model."
   ]
  },
  {
   "cell_type": "code",
   "execution_count": 5,
   "id": "4712e288-e622-48a2-ad3f-a52f65f3ab08",
   "metadata": {},
   "outputs": [
    {
     "data": {
      "text/plain": [
       "AIMessage(content='Beyond whales (which are a huge and diverse group themselves!), there are several other fascinating groups of marine mammals to explore:\\n\\n* **Pinnipeds:** This group includes seals, sea lions, and walruses.  They are characterized by their flippers and spend time both on land and in water.  There are differences between seals and sea lions – seals lack external ear flaps and have smaller front flippers, while sea lions have visible ears and larger front flippers that they use for walking on land. Walruses are easily identified by their tusks.\\n\\n* **Sirenians:** This group includes manatees and dugongs.  They are herbivorous marine mammals often referred to as \"sea cows\" due to their slow-moving nature and grazing habits in shallow coastal waters.\\n\\n* **Sea Otters:** These adorable creatures are the smallest marine mammals in North America. They are known for their thick fur, playful behavior, and use of tools (like rocks) to crack open shellfish.\\n\\n* **Polar Bears:** While they spend a significant amount of time on land and ice, polar bears are classified as marine mammals due to their dependence on the ocean for food (primarily seals) and their ability to swim long distances.\\n\\nWithin each of these groups, there are numerous species with unique adaptations and characteristics. For example, there are several different species of seals, including harbor seals, harp seals, and elephant seals, each adapted to specific environments.\\n\\nTo help you focus your research, what specifically about marine mammals are you interested in?  Their evolution? Conservation status?  Specific adaptations? Knowing this will help me recommend further resources.\\n', additional_kwargs={}, response_metadata={'prompt_feedback': {'block_reason': 0, 'safety_ratings': []}, 'finish_reason': 'STOP', 'safety_ratings': []}, id='run-1a247e2c-0be5-4f35-bfa6-3c066ace15e5-0', usage_metadata={'input_tokens': 26, 'output_tokens': 335, 'total_tokens': 361, 'input_token_details': {'cache_read': 0}})"
      ]
     },
     "execution_count": 5,
     "metadata": {},
     "output_type": "execute_result"
    }
   ],
   "source": [
    "# from langchain_openai import ChatOpenAI\n",
    "# llm = ChatOpenAI(model=\"gpt-4o\")\n",
    "\n",
    "from langchain_google_genai import ChatGoogleGenerativeAI\n",
    "llm = ChatGoogleGenerativeAI(\n",
    "    model=\"gemini-1.5-pro\",\n",
    "    api_key=GOOGLEAI_API_KEY,\n",
    ")\n",
    "\n",
    "llm.invoke(messages)"
   ]
  },
  {
   "cell_type": "markdown",
   "id": "fbd1dab8-0af8-4621-8264-ce65065f76ec",
   "metadata": {},
   "source": [
    "We can run our chat model in a simple graph with `MessagesState`."
   ]
  },
  {
   "cell_type": "code",
   "execution_count": 6,
   "id": "bbd8c39c-633b-4176-9cc6-8318e42bb5dd",
   "metadata": {},
   "outputs": [
    {
     "data": {
      "image/png": "[encoded data removed]",
      "text/plain": [
       "<IPython.core.display.Image object>"
      ]
     },
     "metadata": {},
     "output_type": "display_data"
    }
   ],
   "source": [
    "from IPython.display import Image, display\n",
    "from langgraph.graph import MessagesState\n",
    "from langgraph.graph import StateGraph, START, END\n",
    "\n",
    "# Node\n",
    "def chat_model_node(state: MessagesState):\n",
    "    return {\"messages\": llm.invoke(state[\"messages\"])}\n",
    "\n",
    "# Build graph\n",
    "builder = StateGraph(MessagesState)\n",
    "builder.add_node(\"chat_model\", chat_model_node)\n",
    "builder.add_edge(START, \"chat_model\")\n",
    "builder.add_edge(\"chat_model\", END)\n",
    "graph = builder.compile()\n",
    "\n",
    "# View\n",
    "display(Image(graph.get_graph().draw_mermaid_png()))"
   ]
  },
  {
   "cell_type": "code",
   "execution_count": 7,
   "id": "3a5a3e4a-ccfd-4d14-81f1-f0de6e11a1e4",
   "metadata": {},
   "outputs": [
    {
     "name": "stdout",
     "output_type": "stream",
     "text": [
      "==================================\u001b[1m Ai Message \u001b[0m==================================\n",
      "Name: Bot\n",
      "\n",
      "So you said you were researching ocean mammals?\n",
      "================================\u001b[1m Human Message \u001b[0m=================================\n",
      "Name: Lance\n",
      "\n",
      "Yes, I know about whales. But what others should I learn about?\n",
      "==================================\u001b[1m Ai Message \u001b[0m==================================\n",
      "\n",
      "Beyond whales (which are a huge and diverse group themselves!), there are several other fascinating groups of marine mammals:\n",
      "\n",
      "* **Pinnipeds:** This group includes seals, sea lions, and walruses.  They are characterized by their flippers and spend time both on land and in the water.  There are differences between seals and sea lions, primarily in their ear structure (sea lions have external ear flaps) and how they move on land (sea lions can rotate their hind flippers forward). Walruses are easily identifiable by their tusks.\n",
      "\n",
      "* **Sirenians:** This group includes manatees and dugongs. They are herbivorous marine mammals, often called \"sea cows,\" and inhabit warm, shallow waters.  They are gentle giants and unfortunately face threats from boat collisions and habitat loss.\n",
      "\n",
      "* **Sea Otters:**  These playful creatures are the smallest marine mammals in North America.  They are known for their thick fur, tool use (using rocks to crack open shellfish), and floating on their backs while eating.  They play a vital role in kelp forest ecosystems.\n",
      "\n",
      "* **Polar Bears:**  These apex predators are found in the Arctic regions and rely heavily on sea ice for hunting seals.  They are powerful swimmers and well-adapted to the cold environment.  They are currently listed as vulnerable due to the effects of climate change on their habitat.\n",
      "\n",
      "Within each of these groups, there are many different species, each with its own unique characteristics and adaptations.  For example, within the whales, you have baleen whales (like humpbacks and blue whales) and toothed whales (like dolphins and orcas).\n",
      "\n",
      "Where should I focus next to help you with your research? Are you interested in a specific region, conservation efforts, or perhaps the adaptations that allow these animals to thrive in the ocean?\n"
     ]
    }
   ],
   "source": [
    "output = graph.invoke({'messages': messages})\n",
    "for m in output['messages']:\n",
    "    m.pretty_print()"
   ]
  },
  {
   "cell_type": "markdown",
   "id": "34c33e63-1ef4-412d-bb10-6a1b9e5b35a7",
   "metadata": {},
   "source": [
    "## Reducer\n",
    "\n",
    "A practical challenge when working with messages is managing long-running conversations. \n",
    "\n",
    "Long-running conversations result in high token usage and latency if we are not careful, because we pass a growing list of messages to the model.\n",
    "\n",
    "We have a few ways to address this.\n",
    "\n",
    "First, recall the trick we saw using `RemoveMessage` and the `add_messages` reducer."
   ]
  },
  {
   "cell_type": "code",
   "execution_count": 8,
   "id": "222c6bc5-bb0e-4a43-80f5-c8ec38d99f3a",
   "metadata": {},
   "outputs": [
    {
     "data": {
      "image/png": "[encoded data removed]",
      "text/plain": [
       "<IPython.core.display.Image object>"
      ]
     },
     "metadata": {},
     "output_type": "display_data"
    }
   ],
   "source": [
    "from langchain_core.messages import RemoveMessage\n",
    "\n",
    "# Nodes\n",
    "def filter_messages(state: MessagesState):\n",
    "    # Delete all but the 2 most recent messages\n",
    "    delete_messages = [RemoveMessage(id=m.id) for m in state[\"messages\"][:-2]]\n",
    "    return {\"messages\": delete_messages}\n",
    "\n",
    "def chat_model_node(state: MessagesState):    \n",
    "    return {\"messages\": [llm.invoke(state[\"messages\"])]}\n",
    "\n",
    "# Build graph\n",
    "builder = StateGraph(MessagesState)\n",
    "builder.add_node(\"filter\", filter_messages)\n",
    "builder.add_node(\"chat_model\", chat_model_node)\n",
    "builder.add_edge(START, \"filter\")\n",
    "builder.add_edge(\"filter\", \"chat_model\")\n",
    "builder.add_edge(\"chat_model\", END)\n",
    "graph = builder.compile()\n",
    "\n",
    "# View\n",
    "display(Image(graph.get_graph().draw_mermaid_png()))"
   ]
  },
  {
   "cell_type": "code",
   "execution_count": 9,
   "id": "95a7c2cc-54ce-43e7-9a90-abf37827d709",
   "metadata": {},
   "outputs": [
    {
     "name": "stdout",
     "output_type": "stream",
     "text": [
      "==================================\u001b[1m Ai Message \u001b[0m==================================\n",
      "Name: Bot\n",
      "\n",
      "So you said you were researching ocean mammals?\n",
      "================================\u001b[1m Human Message \u001b[0m=================================\n",
      "Name: Lance\n",
      "\n",
      "Yes, I know about whales. But what others should I learn about?\n",
      "==================================\u001b[1m Ai Message \u001b[0m==================================\n",
      "\n",
      "Beyond whales (which are a huge group already!), there are several other fascinating groups of ocean mammals:\n",
      "\n",
      "* **Pinnipeds:** This group includes seals, sea lions, and walruses.  There are many different species within each of these categories, adapted to various environments from the Arctic to the tropics.  Learning about their different adaptations, social structures, and feeding habits can be quite interesting.  For example, compare the crabeater seal (which, ironically, eats krill) to a leopard seal (a fierce predator).\n",
      "\n",
      "* **Sirenians:** This group includes manatees and dugongs. These gentle giants are herbivores, grazing on seagrass and other aquatic vegetation.  They are often found in warmer, coastal waters.  Researching their conservation status is important as many populations are threatened.\n",
      "\n",
      "* **Sea Otters:** These charismatic creatures are the smallest marine mammals in North America. They are known for their tool use (using rocks to crack open shellfish) and their thick fur, the densest of any mammal.  They play a vital role in kelp forest ecosystems.\n",
      "\n",
      "* **Polar Bears:** While they spend a significant amount of time on land and ice, polar bears are classified as marine mammals due to their dependence on the ocean for food (primarily seals).  Their adaptations to the Arctic environment and the threats they face from climate change are important research topics.\n",
      "\n",
      "Within each of these groups, there are many individual species with unique characteristics.  You could focus your research on a particular species, a specific adaptation (like diving behavior or communication), or a conservation issue related to ocean mammals.  Happy researching!\n"
     ]
    }
   ],
   "source": [
    "# Message list with a preamble\n",
    "messages = [AIMessage(\"Hi.\", name=\"Bot\", id=\"1\")]\n",
    "messages.append(HumanMessage(\"Hi.\", name=\"Lance\", id=\"2\"))\n",
    "messages.append(AIMessage(\"So you said you were researching ocean mammals?\", name=\"Bot\", id=\"3\"))\n",
    "messages.append(HumanMessage(\"Yes, I know about whales. But what others should I learn about?\", name=\"Lance\", id=\"4\"))\n",
    "\n",
    "# Invoke\n",
    "output = graph.invoke({'messages': messages})\n",
    "for m in output['messages']:\n",
    "    m.pretty_print()"
   ]
  },
  {
   "cell_type": "markdown",
   "id": "f506457d-014b-4fee-a684-e5edfb4b8f0d",
   "metadata": {},
   "source": [
    "## Filtering messages\n",
    "\n",
    "If you don't need or want to modify the graph state, you can just filter the messages you pass to the chat model.\n",
    "\n",
    "For example, just pass in a filtered list: `llm.invoke(messages[-1:])` to the model."
   ]
  },
  {
   "cell_type": "code",
   "execution_count": 10,
   "id": "22d0b904-7cd6-486b-8948-105bee3d4683",
   "metadata": {},
   "outputs": [
    {
     "data": {
      "image/png": "[encoded data removed]",
      "text/plain": [
       "<IPython.core.display.Image object>"
      ]
     },
     "metadata": {},
     "output_type": "display_data"
    }
   ],
   "source": [
    "# Node\n",
    "def chat_model_node(state: MessagesState):\n",
    "    return {\"messages\": [llm.invoke(state[\"messages\"][-1:])]}\n",
    "\n",
    "# Build graph\n",
    "builder = StateGraph(MessagesState)\n",
    "builder.add_node(\"chat_model\", chat_model_node)\n",
    "builder.add_edge(START, \"chat_model\")\n",
    "builder.add_edge(\"chat_model\", END)\n",
    "graph = builder.compile()\n",
    "\n",
    "# View\n",
    "display(Image(graph.get_graph().draw_mermaid_png()))"
   ]
  },
  {
   "cell_type": "markdown",
   "id": "6f58c6fc-532f-418d-b70a-cfcb3307daf5",
   "metadata": {},
   "source": [
    "Let's take our existing list of messages, append the above LLM response, and append a follow-up question."
   ]
  },
  {
   "cell_type": "code",
   "execution_count": 11,
   "id": "16956015-1dbe-4108-89b5-4209b68b51ca",
   "metadata": {},
   "outputs": [],
   "source": [
    "messages.append(output['messages'][-1])\n",
    "messages.append(HumanMessage(f\"Tell me more about Narwhals!\", name=\"Lance\"))"
   ]
  },
  {
   "cell_type": "code",
   "execution_count": 12,
   "id": "85563415-c085-46a8-a4ac-155df798c54e",
   "metadata": {},
   "outputs": [
    {
     "name": "stdout",
     "output_type": "stream",
     "text": [
      "==================================\u001b[1m Ai Message \u001b[0m==================================\n",
      "Name: Bot\n",
      "\n",
      "Hi.\n",
      "================================\u001b[1m Human Message \u001b[0m=================================\n",
      "Name: Lance\n",
      "\n",
      "Hi.\n",
      "==================================\u001b[1m Ai Message \u001b[0m==================================\n",
      "Name: Bot\n",
      "\n",
      "So you said you were researching ocean mammals?\n",
      "================================\u001b[1m Human Message \u001b[0m=================================\n",
      "Name: Lance\n",
      "\n",
      "Yes, I know about whales. But what others should I learn about?\n",
      "==================================\u001b[1m Ai Message \u001b[0m==================================\n",
      "\n",
      "Beyond whales (which are a huge group already!), there are several other fascinating groups of ocean mammals:\n",
      "\n",
      "* **Pinnipeds:** This group includes seals, sea lions, and walruses.  There are many different species within each of these categories, adapted to various environments from the Arctic to the tropics.  Learning about their different adaptations, social structures, and feeding habits can be quite interesting.  For example, compare the crabeater seal (which, ironically, eats krill) to a leopard seal (a fierce predator).\n",
      "\n",
      "* **Sirenians:** This group includes manatees and dugongs. These gentle giants are herbivores, grazing on seagrass and other aquatic vegetation.  They are often found in warmer, coastal waters.  Researching their conservation status is important as many populations are threatened.\n",
      "\n",
      "* **Sea Otters:** These charismatic creatures are the smallest marine mammals in North America. They are known for their tool use (using rocks to crack open shellfish) and their thick fur, the densest of any mammal.  They play a vital role in kelp forest ecosystems.\n",
      "\n",
      "* **Polar Bears:** While they spend a significant amount of time on land and ice, polar bears are classified as marine mammals due to their dependence on the ocean for food (primarily seals).  Their adaptations to the Arctic environment and the threats they face from climate change are important research topics.\n",
      "\n",
      "Within each of these groups, there are many individual species with unique characteristics.  You could focus your research on a particular species, a specific adaptation (like diving behavior or communication), or a conservation issue related to ocean mammals.  Happy researching!\n",
      "================================\u001b[1m Human Message \u001b[0m=================================\n",
      "Name: Lance\n",
      "\n",
      "Tell me more about Narwhals!\n"
     ]
    }
   ],
   "source": [
    "for m in messages:\n",
    "    m.pretty_print()"
   ]
  },
  {
   "cell_type": "code",
   "execution_count": 13,
   "id": "23349705-a059-47b5-9760-d8f64e687393",
   "metadata": {},
   "outputs": [
    {
     "name": "stdout",
     "output_type": "stream",
     "text": [
      "==================================\u001b[1m Ai Message \u001b[0m==================================\n",
      "Name: Bot\n",
      "\n",
      "Hi.\n",
      "================================\u001b[1m Human Message \u001b[0m=================================\n",
      "Name: Lance\n",
      "\n",
      "Hi.\n",
      "==================================\u001b[1m Ai Message \u001b[0m==================================\n",
      "Name: Bot\n",
      "\n",
      "So you said you were researching ocean mammals?\n",
      "================================\u001b[1m Human Message \u001b[0m=================================\n",
      "Name: Lance\n",
      "\n",
      "Yes, I know about whales. But what others should I learn about?\n",
      "==================================\u001b[1m Ai Message \u001b[0m==================================\n",
      "\n",
      "Beyond whales (which are a huge group already!), there are several other fascinating groups of ocean mammals:\n",
      "\n",
      "* **Pinnipeds:** This group includes seals, sea lions, and walruses.  There are many different species within each of these categories, adapted to various environments from the Arctic to the tropics.  Learning about their different adaptations, social structures, and feeding habits can be quite interesting.  For example, compare the crabeater seal (which, ironically, eats krill) to a leopard seal (a fierce predator).\n",
      "\n",
      "* **Sirenians:** This group includes manatees and dugongs. These gentle giants are herbivores, grazing on seagrass and other aquatic vegetation.  They are often found in warmer, coastal waters.  Researching their conservation status is important as many populations are threatened.\n",
      "\n",
      "* **Sea Otters:** These charismatic creatures are the smallest marine mammals in North America. They are known for their tool use (using rocks to crack open shellfish) and their thick fur, the densest of any mammal.  They play a vital role in kelp forest ecosystems.\n",
      "\n",
      "* **Polar Bears:** While they spend a significant amount of time on land and ice, polar bears are classified as marine mammals due to their dependence on the ocean for food (primarily seals).  Their adaptations to the Arctic environment and the threats they face from climate change are important research topics.\n",
      "\n",
      "Within each of these groups, there are many individual species with unique characteristics.  You could focus your research on a particular species, a specific adaptation (like diving behavior or communication), or a conservation issue related to ocean mammals.  Happy researching!\n",
      "================================\u001b[1m Human Message \u001b[0m=================================\n",
      "Name: Lance\n",
      "\n",
      "Tell me more about Narwhals!\n",
      "==================================\u001b[1m Ai Message \u001b[0m==================================\n",
      "\n",
      "Narwhals are medium-sized toothed whales found in the Arctic waters of Canada, Greenland, Norway, and Russia.  They're often called the \"unicorns of the sea\" because of their most distinctive feature: a long, straight tusk that projects from their upper left jaw.  Here's a breakdown of fascinating narwhal facts:\n",
      "\n",
      "**The Tusk:**\n",
      "\n",
      "* **What it is:**  The tusk is actually a spiraled canine tooth.  It can grow up to 10 feet long in males and occasionally in females, though much shorter.\n",
      "* **What it's for:** The purpose of the tusk is still debated by scientists.  Leading theories suggest it's used for:\n",
      "    * **Sensing:**  It's richly innervated (has many nerves), allowing the narwhal to detect changes in water temperature, salinity, and pressure, and possibly even the presence of prey.\n",
      "    * **Male competition:**  Tusks may be used in displays of dominance or to establish social hierarchy, though rarely for actual fighting.\n",
      "    * **Attracting mates:**  Larger tusks could signal fitness and attract females.\n",
      "    * **Breaking through ice:**  While possible, this is considered less likely as a primary function.\n",
      "* **Unique properties:** The tusk is flexible and can bend up to a foot without breaking. It also has a porous surface that allows for water flow and environmental sensing.\n",
      "\n",
      "**Physical Characteristics:**\n",
      "\n",
      "* **Size:** Adults can reach lengths of 13-20 feet (excluding the tusk) and weigh between 1,760 and 3,530 pounds.\n",
      "* **Appearance:**  They have mottled grey and white skin, with darker spots becoming more prominent with age.  They lack a dorsal fin, likely an adaptation for swimming under ice.\n",
      "* **Swimming:** They are powerful swimmers and can dive to impressive depths, sometimes exceeding 5,000 feet, to hunt for prey.\n",
      "\n",
      "**Diet and Predators:**\n",
      "\n",
      "* **Food:** Their diet consists primarily of Arctic cod, Greenland halibut, shrimp, and squid.  They use echolocation to find prey in the dark depths.\n",
      "* **Predators:**  Narwhals are preyed upon by polar bears, orcas, and occasionally Greenland sharks.  Younger narwhals are also vulnerable to walruses.\n",
      "\n",
      "**Social Behavior and Reproduction:**\n",
      "\n",
      "* **Pods:**  They are social animals and often travel in pods of up to 20 individuals, sometimes aggregating into larger groups during migrations.\n",
      "* **Breeding:**  Mating occurs in the spring, and after a gestation period of around 14 months, a single calf is born.\n",
      "\n",
      "**Conservation Status:**\n",
      "\n",
      "* **Near Threatened:**  While not currently endangered, narwhals are considered near threatened due to climate change, which affects their sea ice habitat, and hunting pressure in some areas.  Pollution and noise from increased shipping traffic in the Arctic also pose threats.\n",
      "\n",
      "\n",
      "Narwhals are truly fascinating creatures, and ongoing research continues to unveil more about their unique adaptations and behaviors.\n"
     ]
    }
   ],
   "source": [
    "# Invoke, using message filtering\n",
    "output = graph.invoke({'messages': messages})\n",
    "for m in output['messages']:\n",
    "    m.pretty_print()"
   ]
  },
  {
   "cell_type": "markdown",
   "id": "42e1d8d2-e297-4d78-b54c-d12b3c866745",
   "metadata": {},
   "source": [
    "The state has all of the mesages.\n",
    "\n",
    "But, let's look at the LangSmith trace to see that the model invocation only uses the last message:\n",
    "\n",
    "https://smith.langchain.com/public/75aca3ce-ef19-4b92-94be-0178c7a660d9/r"
   ]
  },
  {
   "cell_type": "markdown",
   "id": "fc40d930-3c1f-47fe-8d2a-ce174873353c",
   "metadata": {},
   "source": [
    "## Trim messages\n",
    "\n",
    "Another approach is to [trim messages](https://python.langchain.com/v0.2/docs/how_to/trim_messages/#getting-the-last-max_tokens-tokens), based upon a set number of tokens. \n",
    "\n",
    "This restricts the message history to a specified number of tokens.\n",
    "\n",
    "While filtering only returns a post-hoc subset of the messages between agents, trimming restricts the number of tokens that a chat model can use to respond.\n",
    "\n",
    "See the `trim_messages` below."
   ]
  },
  {
   "cell_type": "code",
   "execution_count": 14,
   "id": "2ff99b81-cf03-4cc2-b44f-44829a73e1fd",
   "metadata": {},
   "outputs": [
    {
     "data": {
      "image/png": "[encoded data removed]",
      "text/plain": [
       "<IPython.core.display.Image object>"
      ]
     },
     "metadata": {},
     "output_type": "display_data"
    }
   ],
   "source": [
    "from langchain_core.messages import trim_messages\n",
    "\n",
    "# Node\n",
    "def chat_model_node(state: MessagesState):\n",
    "    messages = trim_messages(\n",
    "            state[\"messages\"],\n",
    "            max_tokens=100,\n",
    "            strategy=\"last\",\n",
    "            # token_counter=ChatOpenAI(model=\"gpt-4o\"),\n",
    "            token_counter=ChatGoogleGenerativeAI(\n",
    "                model=\"gemini-1.5-pro\",\n",
    "                api_key=GOOGLEAI_API_KEY,\n",
    "            ),\n",
    "            allow_partial=False,\n",
    "        )\n",
    "    return {\"messages\": [llm.invoke(messages)]}\n",
    "\n",
    "# Build graph\n",
    "builder = StateGraph(MessagesState)\n",
    "builder.add_node(\"chat_model\", chat_model_node)\n",
    "builder.add_edge(START, \"chat_model\")\n",
    "builder.add_edge(\"chat_model\", END)\n",
    "graph = builder.compile()\n",
    "\n",
    "# View\n",
    "display(Image(graph.get_graph().draw_mermaid_png()))"
   ]
  },
  {
   "cell_type": "code",
   "execution_count": 15,
   "id": "24df63ac-da29-4874-b3df-7e390e97cc8a",
   "metadata": {},
   "outputs": [],
   "source": [
    "messages.append(output['messages'][-1])\n",
    "messages.append(HumanMessage(f\"Tell me where Orcas live!\", name=\"Lance\"))"
   ]
  },
  {
   "cell_type": "code",
   "execution_count": 16,
   "id": "edd2aa3e",
   "metadata": {},
   "outputs": [
    {
     "name": "stdout",
     "output_type": "stream",
     "text": [
      "==================================\u001b[1m Ai Message \u001b[0m==================================\n",
      "Name: Bot\n",
      "\n",
      "Hi.\n",
      "================================\u001b[1m Human Message \u001b[0m=================================\n",
      "Name: Lance\n",
      "\n",
      "Hi.\n",
      "==================================\u001b[1m Ai Message \u001b[0m==================================\n",
      "Name: Bot\n",
      "\n",
      "So you said you were researching ocean mammals?\n",
      "================================\u001b[1m Human Message \u001b[0m=================================\n",
      "Name: Lance\n",
      "\n",
      "Yes, I know about whales. But what others should I learn about?\n",
      "==================================\u001b[1m Ai Message \u001b[0m==================================\n",
      "\n",
      "Beyond whales (which are a huge group already!), there are several other fascinating groups of ocean mammals:\n",
      "\n",
      "* **Pinnipeds:** This group includes seals, sea lions, and walruses.  There are many different species within each of these categories, adapted to various environments from the Arctic to the tropics.  Learning about their different adaptations, social structures, and feeding habits can be quite interesting.  For example, compare the crabeater seal (which, ironically, eats krill) to a leopard seal (a fierce predator).\n",
      "\n",
      "* **Sirenians:** This group includes manatees and dugongs. These gentle giants are herbivores, grazing on seagrass and other aquatic vegetation.  They are often found in warmer, coastal waters.  Researching their conservation status is important as many populations are threatened.\n",
      "\n",
      "* **Sea Otters:** These charismatic creatures are the smallest marine mammals in North America. They are known for their tool use (using rocks to crack open shellfish) and their thick fur, the densest of any mammal.  They play a vital role in kelp forest ecosystems.\n",
      "\n",
      "* **Polar Bears:** While they spend a significant amount of time on land and ice, polar bears are classified as marine mammals due to their dependence on the ocean for food (primarily seals).  Their adaptations to the Arctic environment and the threats they face from climate change are important research topics.\n",
      "\n",
      "Within each of these groups, there are many individual species with unique characteristics.  You could focus your research on a particular species, a specific adaptation (like diving behavior or communication), or a conservation issue related to ocean mammals.  Happy researching!\n",
      "================================\u001b[1m Human Message \u001b[0m=================================\n",
      "Name: Lance\n",
      "\n",
      "Tell me more about Narwhals!\n",
      "==================================\u001b[1m Ai Message \u001b[0m==================================\n",
      "\n",
      "Narwhals are medium-sized toothed whales found in the Arctic waters of Canada, Greenland, Norway, and Russia.  They're often called the \"unicorns of the sea\" because of their most distinctive feature: a long, straight tusk that projects from their upper left jaw.  Here's a breakdown of fascinating narwhal facts:\n",
      "\n",
      "**The Tusk:**\n",
      "\n",
      "* **What it is:**  The tusk is actually a spiraled canine tooth.  It can grow up to 10 feet long in males and occasionally in females, though much shorter.\n",
      "* **What it's for:** The purpose of the tusk is still debated by scientists.  Leading theories suggest it's used for:\n",
      "    * **Sensing:**  It's richly innervated (has many nerves), allowing the narwhal to detect changes in water temperature, salinity, and pressure, and possibly even the presence of prey.\n",
      "    * **Male competition:**  Tusks may be used in displays of dominance or to establish social hierarchy, though rarely for actual fighting.\n",
      "    * **Attracting mates:**  Larger tusks could signal fitness and attract females.\n",
      "    * **Breaking through ice:**  While possible, this is considered less likely as a primary function.\n",
      "* **Unique properties:** The tusk is flexible and can bend up to a foot without breaking. It also has a porous surface that allows for water flow and environmental sensing.\n",
      "\n",
      "**Physical Characteristics:**\n",
      "\n",
      "* **Size:** Adults can reach lengths of 13-20 feet (excluding the tusk) and weigh between 1,760 and 3,530 pounds.\n",
      "* **Appearance:**  They have mottled grey and white skin, with darker spots becoming more prominent with age.  They lack a dorsal fin, likely an adaptation for swimming under ice.\n",
      "* **Swimming:** They are powerful swimmers and can dive to impressive depths, sometimes exceeding 5,000 feet, to hunt for prey.\n",
      "\n",
      "**Diet and Predators:**\n",
      "\n",
      "* **Food:** Their diet consists primarily of Arctic cod, Greenland halibut, shrimp, and squid.  They use echolocation to find prey in the dark depths.\n",
      "* **Predators:**  Narwhals are preyed upon by polar bears, orcas, and occasionally Greenland sharks.  Younger narwhals are also vulnerable to walruses.\n",
      "\n",
      "**Social Behavior and Reproduction:**\n",
      "\n",
      "* **Pods:**  They are social animals and often travel in pods of up to 20 individuals, sometimes aggregating into larger groups during migrations.\n",
      "* **Breeding:**  Mating occurs in the spring, and after a gestation period of around 14 months, a single calf is born.\n",
      "\n",
      "**Conservation Status:**\n",
      "\n",
      "* **Near Threatened:**  While not currently endangered, narwhals are considered near threatened due to climate change, which affects their sea ice habitat, and hunting pressure in some areas.  Pollution and noise from increased shipping traffic in the Arctic also pose threats.\n",
      "\n",
      "\n",
      "Narwhals are truly fascinating creatures, and ongoing research continues to unveil more about their unique adaptations and behaviors.\n",
      "================================\u001b[1m Human Message \u001b[0m=================================\n",
      "Name: Lance\n",
      "\n",
      "Tell me where Orcas live!\n"
     ]
    }
   ],
   "source": [
    "for m in messages:\n",
    "    m.pretty_print()"
   ]
  },
  {
   "cell_type": "code",
   "execution_count": 17,
   "id": "6d9d8971-c75c-43ca-a209-eb1d07b2ead0",
   "metadata": {},
   "outputs": [
    {
     "data": {
      "text/plain": [
       "[HumanMessage(content='Tell me where Orcas live!', additional_kwargs={}, response_metadata={}, name='Lance')]"
      ]
     },
     "execution_count": 17,
     "metadata": {},
     "output_type": "execute_result"
    }
   ],
   "source": [
    "# Example of trimming messages\n",
    "trim_messages(\n",
    "            messages,\n",
    "            max_tokens=100,\n",
    "            strategy=\"last\",\n",
    "            # token_counter=ChatOpenAI(model=\"gpt-4o\"),\n",
    "            token_counter=ChatGoogleGenerativeAI(\n",
    "                model=\"gemini-1.5-pro\",\n",
    "                api_key=GOOGLEAI_API_KEY,\n",
    "            ),\n",
    "            allow_partial=False\n",
    "        )"
   ]
  },
  {
   "cell_type": "code",
   "execution_count": 18,
   "id": "ed70a269-a869-4fa0-a1df-29736a432c51",
   "metadata": {},
   "outputs": [],
   "source": [
    "# Invoke, using message trimming in the chat_model_node \n",
    "messages_out_trim = graph.invoke({'messages': messages})"
   ]
  },
  {
   "cell_type": "code",
   "execution_count": 19,
   "id": "552d2f4f",
   "metadata": {},
   "outputs": [
    {
     "name": "stdout",
     "output_type": "stream",
     "text": [
      "==================================\u001b[1m Ai Message \u001b[0m==================================\n",
      "Name: Bot\n",
      "\n",
      "Hi.\n",
      "================================\u001b[1m Human Message \u001b[0m=================================\n",
      "Name: Lance\n",
      "\n",
      "Hi.\n",
      "==================================\u001b[1m Ai Message \u001b[0m==================================\n",
      "Name: Bot\n",
      "\n",
      "So you said you were researching ocean mammals?\n",
      "================================\u001b[1m Human Message \u001b[0m=================================\n",
      "Name: Lance\n",
      "\n",
      "Yes, I know about whales. But what others should I learn about?\n",
      "==================================\u001b[1m Ai Message \u001b[0m==================================\n",
      "\n",
      "Beyond whales (which are a huge group already!), there are several other fascinating groups of ocean mammals:\n",
      "\n",
      "* **Pinnipeds:** This group includes seals, sea lions, and walruses.  There are many different species within each of these categories, adapted to various environments from the Arctic to the tropics.  Learning about their different adaptations, social structures, and feeding habits can be quite interesting.  For example, compare the crabeater seal (which, ironically, eats krill) to a leopard seal (a fierce predator).\n",
      "\n",
      "* **Sirenians:** This group includes manatees and dugongs. These gentle giants are herbivores, grazing on seagrass and other aquatic vegetation.  They are often found in warmer, coastal waters.  Researching their conservation status is important as many populations are threatened.\n",
      "\n",
      "* **Sea Otters:** These charismatic creatures are the smallest marine mammals in North America. They are known for their tool use (using rocks to crack open shellfish) and their thick fur, the densest of any mammal.  They play a vital role in kelp forest ecosystems.\n",
      "\n",
      "* **Polar Bears:** While they spend a significant amount of time on land and ice, polar bears are classified as marine mammals due to their dependence on the ocean for food (primarily seals).  Their adaptations to the Arctic environment and the threats they face from climate change are important research topics.\n",
      "\n",
      "Within each of these groups, there are many individual species with unique characteristics.  You could focus your research on a particular species, a specific adaptation (like diving behavior or communication), or a conservation issue related to ocean mammals.  Happy researching!\n",
      "================================\u001b[1m Human Message \u001b[0m=================================\n",
      "Name: Lance\n",
      "\n",
      "Tell me more about Narwhals!\n",
      "==================================\u001b[1m Ai Message \u001b[0m==================================\n",
      "\n",
      "Narwhals are medium-sized toothed whales found in the Arctic waters of Canada, Greenland, Norway, and Russia.  They're often called the \"unicorns of the sea\" because of their most distinctive feature: a long, straight tusk that projects from their upper left jaw.  Here's a breakdown of fascinating narwhal facts:\n",
      "\n",
      "**The Tusk:**\n",
      "\n",
      "* **What it is:**  The tusk is actually a spiraled canine tooth.  It can grow up to 10 feet long in males and occasionally in females, though much shorter.\n",
      "* **What it's for:** The purpose of the tusk is still debated by scientists.  Leading theories suggest it's used for:\n",
      "    * **Sensing:**  It's richly innervated (has many nerves), allowing the narwhal to detect changes in water temperature, salinity, and pressure, and possibly even the presence of prey.\n",
      "    * **Male competition:**  Tusks may be used in displays of dominance or to establish social hierarchy, though rarely for actual fighting.\n",
      "    * **Attracting mates:**  Larger tusks could signal fitness and attract females.\n",
      "    * **Breaking through ice:**  While possible, this is considered less likely as a primary function.\n",
      "* **Unique properties:** The tusk is flexible and can bend up to a foot without breaking. It also has a porous surface that allows for water flow and environmental sensing.\n",
      "\n",
      "**Physical Characteristics:**\n",
      "\n",
      "* **Size:** Adults can reach lengths of 13-20 feet (excluding the tusk) and weigh between 1,760 and 3,530 pounds.\n",
      "* **Appearance:**  They have mottled grey and white skin, with darker spots becoming more prominent with age.  They lack a dorsal fin, likely an adaptation for swimming under ice.\n",
      "* **Swimming:** They are powerful swimmers and can dive to impressive depths, sometimes exceeding 5,000 feet, to hunt for prey.\n",
      "\n",
      "**Diet and Predators:**\n",
      "\n",
      "* **Food:** Their diet consists primarily of Arctic cod, Greenland halibut, shrimp, and squid.  They use echolocation to find prey in the dark depths.\n",
      "* **Predators:**  Narwhals are preyed upon by polar bears, orcas, and occasionally Greenland sharks.  Younger narwhals are also vulnerable to walruses.\n",
      "\n",
      "**Social Behavior and Reproduction:**\n",
      "\n",
      "* **Pods:**  They are social animals and often travel in pods of up to 20 individuals, sometimes aggregating into larger groups during migrations.\n",
      "* **Breeding:**  Mating occurs in the spring, and after a gestation period of around 14 months, a single calf is born.\n",
      "\n",
      "**Conservation Status:**\n",
      "\n",
      "* **Near Threatened:**  While not currently endangered, narwhals are considered near threatened due to climate change, which affects their sea ice habitat, and hunting pressure in some areas.  Pollution and noise from increased shipping traffic in the Arctic also pose threats.\n",
      "\n",
      "\n",
      "Narwhals are truly fascinating creatures, and ongoing research continues to unveil more about their unique adaptations and behaviors.\n",
      "================================\u001b[1m Human Message \u001b[0m=================================\n",
      "Name: Lance\n",
      "\n",
      "Tell me where Orcas live!\n",
      "==================================\u001b[1m Ai Message \u001b[0m==================================\n",
      "\n",
      "Orcas are found in all oceans of the world, but they prefer colder waters.  They are most abundant in the Arctic and Antarctic regions, as well as in the higher latitudes of the North and South Pacific and Atlantic Oceans.  Specific areas known for orca populations include:\n",
      "\n",
      "* **North Pacific:**  Coastal waters of Alaska, British Columbia, Washington state, Oregon, and California.\n",
      "* **North Atlantic:**  Waters around Iceland, Norway, and the northeastern United States and Canada.\n",
      "* **Southern Ocean:**  Around Antarctica and subantarctic islands.\n",
      "* **Other areas:** They can also be found in lower densities in tropical and subtropical waters, including the Indian Ocean, the Sea of Japan, and even the Mediterranean Sea.\n",
      "\n",
      "\n",
      "It's important to note that orcas are highly mobile and can travel vast distances. While certain areas are known for resident populations that stay in a particular region, other orcas are transient and move around more widely.\n"
     ]
    }
   ],
   "source": [
    "for m in messages_out_trim['messages']:\n",
    "    m.pretty_print()"
   ]
  },
  {
   "cell_type": "markdown",
   "id": "38b3db67-380e-46b5-9a6a-20100ba52008",
   "metadata": {},
   "source": [
    "Let's look at the LangSmith trace to see the model invocation:\n",
    "\n",
    "https://smith.langchain.com/public/b153f7e9-f1a5-4d60-8074-f0d7ab5b42ef/r"
   ]
  }
 ],
 "metadata": {
  "kernelspec": {
   "display_name": "lc-academy",
   "language": "python",
   "name": "python3"
  },
  "language_info": {
   "codemirror_mode": {
    "name": "ipython",
    "version": 3
   },
   "file_extension": ".py",
   "mimetype": "text/x-python",
   "name": "python",
   "nbconvert_exporter": "python",
   "pygments_lexer": "ipython3",
   "version": "3.11.10"
  }
 },
 "nbformat": 4,
 "nbformat_minor": 5
}
